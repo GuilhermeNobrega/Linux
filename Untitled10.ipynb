{
  "nbformat": 4,
  "nbformat_minor": 0,
  "metadata": {
    "colab": {
      "provenance": [],
      "authorship_tag": "ABX9TyMBT3UGquHJmdYxlBH+o5VZ",
      "include_colab_link": true
    },
    "kernelspec": {
      "name": "python3",
      "display_name": "Python 3"
    },
    "language_info": {
      "name": "python"
    }
  },
  "cells": [
    {
      "cell_type": "markdown",
      "metadata": {
        "id": "view-in-github",
        "colab_type": "text"
      },
      "source": [
        "<a href=\"https://colab.research.google.com/github/GuilhermeNobrega/Basic-linux/blob/main/Untitled10.ipynb\" target=\"_parent\"><img src=\"https://colab.research.google.com/assets/colab-badge.svg\" alt=\"Open In Colab\"/></a>"
      ]
    },
    {
      "cell_type": "code",
      "execution_count": null,
      "metadata": {
        "id": "auHvo0mkub6p"
      },
      "outputs": [],
      "source": [
        "#Problema 1: \"Desenvolva um programa que simule a criação de processos e a alocação de recursos em um Sistema Operacional. Cada processo deve requerer recursos específicos, e o programa deve garantir que nenhum processo entre em deadlock.\"\n",
        "from threading import Thread\n",
        "from time import sleep\n",
        "lista_processos = [];\n",
        "memoria_total = 10\n",
        "memoria_ocupada_processos = 0\n",
        "contador = 0\n",
        "def execute_task():\n",
        "  contador= 0\n",
        "  valor = 5\n",
        "  for contador in range(5):\n",
        "    print(f\"\\n\\n\\t================OPERATING AT PROCESS TREE:============= =>: {contador}MB/s\\n\")\n",
        "    sleep(1)\n",
        "\n",
        "def repeat(execute_task):\n",
        "  rodar = Thread(target = execute_task)\n",
        "  rodar.start()\n",
        "  rodar.join()\n",
        "print(\"\\t\\t-------------STARTING OPERATION--------------\\n\")\n",
        "c = 10\n",
        "for d in range(c):\n",
        "    sleep(0.5)\n",
        "    print(\"\\t-\", end='')\n",
        "\n",
        "while True:\n",
        "    execute_task()\n",
        "    redutor = memoria_total-1\n",
        "    memoria_total = redutor\n",
        "    print(f\"PROCESSO {contador} EM EXECUÇÃO! CADA PROCESSO OCUPARÁ 1 DA MEMORIA TOTAL, QUE TEM POR CAPACIDADE TOTAL {memoria_total}\\n\")\n",
        "    contador +=1\n",
        "    memoria_ocupada_processos +=1\n",
        "    if memoria_ocupada_processos == memoria_total:\n",
        "      print(\"===============================QUANTIDADE DE MEMORIA TOTAL OCUPADA. O SISTEMA IRÁ PARAR AS EXECUÇÕES PARA EVITAR UM DEADLOCK!==============================\\n\")\n",
        "      resposta = input(\"\"\"===================DESEJA INTERROMPER AS EXECUÇÕES?=================================\\n\n",
        "      OPTION: [Yes]\n",
        "      OPTION: [No]\\n\"\"\")\n",
        "      if resposta =='Yes' or resposta =='yes':\n",
        "        print(\"\\t\\t------------SYSTEM INTERRUPTED----------\\n\")\n",
        "        break\n",
        "      else:\n",
        "        print(\"\\t\\t============= [FATAL ERROR] UNEXPECTED CATASTROPHIC FAILURE!!=============\\n\")\n",
        "        break"
      ]
    }
  ]
}